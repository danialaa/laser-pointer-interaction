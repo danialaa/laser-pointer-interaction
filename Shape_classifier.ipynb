{
  "nbformat": 4,
  "nbformat_minor": 0,
  "metadata": {
    "kernelspec": {
      "display_name": "Python 3",
      "language": "python",
      "name": "python3"
    },
    "language_info": {
      "codemirror_mode": {
        "name": "ipython",
        "version": 3
      },
      "file_extension": ".py",
      "mimetype": "text/x-python",
      "name": "python",
      "nbconvert_exporter": "python",
      "pygments_lexer": "ipython3",
      "version": "3.6.5"
    },
    "colab": {
      "name": "image_classifier.ipynb",
      "provenance": [],
      "collapsed_sections": []
    }
  },
  "cells": [
    {
      "cell_type": "markdown",
      "metadata": {
        "id": "MBxh1o_e4MWw",
        "colab_type": "text"
      },
      "source": [
        "# **Transfer Learning for Image Classification**\n",
        "\n",
        "![Cover](./assets/cover.png)\n",
        "\n",
        "---\n",
        "\n",
        "## Overview\n",
        "\n",
        "Going forward, AI algorithms will be incorporated into more and more everyday applications. For example, you might want to include an image classifier in a smart phone app. To do this, you'd use a deep learning model trained on hundreds of thousands of images as part of the overall application architecture. A large part of software development in the future will be using these types of models as common parts of applications. \n",
        "\n",
        "In this project, you'll train an image classifier to recognize different species of flowers. You can imagine using something like this in a phone app that tells you the name of the flower your camera is looking at. In practice you'd train this classifier, then export it for use in your application. We'll be using [this dataset](http://www.robots.ox.ac.uk/~vgg/data/flowers/102/index.html) of 102 flower categories, you can see a few examples below. \n",
        "\n",
        "\n",
        "The project is broken down into multiple steps:\n",
        "\n",
        "* Load and preprocess the image dataset\n",
        "* Train the image classifier on your dataset\n",
        "* Use the trained classifier to predict image content\n",
        "\n",
        "We'll lead you through each part which you'll implement in Python.\n",
        "\n",
        "When you've completed this project, you'll have an application that can be trained on any set of labeled images. Here your network will be learning about flowers and end up as a command line application. But, what you do with your new skills depends on your imagination and effort in building a dataset. For example, imagine an app where you take a picture of a car, it tells you what the make and model is, then looks up information about it. Go build your own dataset and make something new.\n",
        "\n",
        "First up is importing the packages you'll need. It's good practice to keep all the imports at the beginning of your code. As you work through this notebook and find you need to import a package, make sure to add the import up here."
      ]
    },
    {
      "cell_type": "code",
      "metadata": {
        "id": "YRlYdGC54MWz",
        "colab_type": "code",
        "colab": {}
      },
      "source": [
        "\n",
        "%load_ext autoreload\n",
        "%autoreload 2"
      ],
      "execution_count": 0,
      "outputs": []
    },
    {
      "cell_type": "code",
      "metadata": {
        "id": "RXnbIzDE40jd",
        "colab_type": "code",
        "outputId": "e6e9dcde-290f-4702-bc01-7be3f0a73e1d",
        "colab": {
          "base_uri": "https://localhost:8080/",
          "height": 55
        }
      },
      "source": [
        "from google.colab import drive\n",
        "drive.mount('/content/drive')"
      ],
      "execution_count": 0,
      "outputs": [
        {
          "output_type": "stream",
          "text": [
            "Drive already mounted at /content/drive; to attempt to forcibly remount, call drive.mount(\"/content/drive\", force_remount=True).\n"
          ],
          "name": "stdout"
        }
      ]
    },
    {
      "cell_type": "code",
      "metadata": {
        "id": "ovbE7x9a4MW5",
        "colab_type": "code",
        "colab": {}
      },
      "source": [
        "import torch\n",
        "import torch.utils.data as data\n",
        "\n",
        "import torchvision\n",
        "import torchvision.transforms as transforms\n",
        "import torchvision.datasets as datasets\n",
        "\n",
        "import numpy as np\n",
        "import matplotlib.pyplot as plt\n",
        "import matplotlib.image as mpimg\n",
        "\n",
        "from PIL import Image\n",
        "\n",
        "import train\n",
        "import predict\n",
        "import json"
      ],
      "execution_count": 0,
      "outputs": []
    },
    {
      "cell_type": "markdown",
      "metadata": {
        "id": "H-1GLYD-4MW8",
        "colab_type": "text"
      },
      "source": [
        "## Load the data\n",
        "\n",
        "Here you'll use `torchvision` to load the data ([documentation](http://pytorch.org/docs/master/torchvision/transforms.html#)). The data should be included alongside this notebook, otherwise you can [download it here](https://s3.amazonaws.com/content.udacity-data.com/nd089/flower_data.tar.gz). The dataset is split into three parts, training, validation, and testing. For the training, you'll want to apply transformations such as random scaling, cropping, and flipping. This will help the network generalize leading to better performance. You'll also need to make sure the input data is resized to 224x224 pixels as required by the pre-trained networks.\n",
        "\n",
        "The validation and testing sets are used to measure the model's performance on data it hasn't seen yet. For this you don't want any scaling or rotation transformations, but you'll need to resize then crop the images to the appropriate size.\n",
        "\n",
        "For all three sets you'll need to normalize the means and standard deviations of the images to what the network expects. For the means, it's `[0.485, 0.456, 0.406]` and for the standard deviations `[0.229, 0.224, 0.225]`. This converts the values of each color channel to be between -1 and 1 instead of 0 and 1."
      ]
    },
    {
      "cell_type": "code",
      "metadata": {
        "id": "PU5DpYEO4MW_",
        "colab_type": "code",
        "colab": {}
      },
      "source": [
        "data_dir = '/content/drive/My Drive/shape'"
      ],
      "execution_count": 0,
      "outputs": []
    },
    {
      "cell_type": "code",
      "metadata": {
        "id": "Z-c7wm9X4MXC",
        "colab_type": "code",
        "colab": {}
      },
      "source": [
        "# Define your transforms for the training, validation, and testing sets\n",
        "data_transforms = {\n",
        "    'train': transforms.Compose([\n",
        "        transforms.RandomRotation(45),\n",
        "        transforms.RandomResizedCrop(224),\n",
        "        transforms.RandomHorizontalFlip(),\n",
        "        transforms.ToTensor(),\n",
        "        transforms.Normalize(mean=[0.485, 0.456, 0.406], std=[0.229, 0.224, 0.225])\n",
        "     ]),\n",
        "    'valid': transforms.Compose([\n",
        "        transforms.Resize(256),\n",
        "        transforms.CenterCrop(224),\n",
        "        transforms.ToTensor(),\n",
        "        transforms.Normalize(mean=[0.485, 0.456, 0.406], std=[0.229, 0.224, 0.225])\n",
        "     ]),\n",
        "    'test': transforms.Compose([\n",
        "        transforms.Resize(256),\n",
        "        transforms.CenterCrop(224),\n",
        "        transforms.ToTensor(),\n",
        "        transforms.Normalize(mean=[0.485, 0.456, 0.406], std=[0.229, 0.224, 0.225])\n",
        "     ])\n",
        "}\n",
        "    \n",
        "# Load the datasets with ImageFolder\n",
        "image_datasets = {\n",
        "    x: datasets.ImageFolder(root=data_dir + '/' + x, transform=data_transforms[x])\n",
        "    for x in list(data_transforms.keys())\n",
        "}"
      ],
      "execution_count": 0,
      "outputs": []
    },
    {
      "cell_type": "markdown",
      "metadata": {
        "id": "1agl3zgp4MXF",
        "colab_type": "text"
      },
      "source": [
        "### Label mapping\n",
        "\n",
        "You'll also need to load in a mapping from category label to category name. You can find this in the file `cat_to_name.json`. It's a JSON object which you can read in with the [`json` module](https://docs.python.org/2/library/json.html). This will give you a dictionary mapping the integer encoded categories to the actual names of the flowers."
      ]
    },
    {
      "cell_type": "code",
      "metadata": {
        "id": "egljjV7G4MXG",
        "colab_type": "code",
        "colab": {}
      },
      "source": [
        "with open('cat_to_name.json', 'r') as f:\n",
        "    cat_to_name = json.load(f)"
      ],
      "execution_count": 0,
      "outputs": []
    },
    {
      "cell_type": "markdown",
      "metadata": {
        "id": "2L1PITcN4MXJ",
        "colab_type": "text"
      },
      "source": [
        "### Visualize a few images\n",
        "\n",
        "Let’s visualize a few training images:"
      ]
    },
    {
      "cell_type": "code",
      "metadata": {
        "id": "fOPneiqQ4MXO",
        "colab_type": "code",
        "outputId": "4d2b79f5-a5bb-4840-d37f-56308bec9e3b",
        "colab": {
          "base_uri": "https://localhost:8080/",
          "height": 148
        }
      },
      "source": [
        "def imshow(inp, title=None):\n",
        "    \"\"\"Imshow for Tensor.\"\"\"\n",
        "    inp = inp.numpy().transpose((1, 2, 0))\n",
        "    mean = np.array([0.485, 0.456, 0.406])\n",
        "    std = np.array([0.229, 0.224, 0.225])\n",
        "    inp = std * inp + mean\n",
        "    inp = np.clip(inp, 0, 1)\n",
        "    plt.imshow(inp)\n",
        "    if title is not None:\n",
        "        plt.title(title)\n",
        "    plt.pause(0.001)  # pause a bit so that plots are updated\n",
        "\n",
        "# Using the image datasets, define the dataloaders\n",
        "dataloaders = {\n",
        "    x: data.DataLoader(image_datasets[x], batch_size=4, shuffle=True, num_workers=2)\n",
        "    for x in list(image_datasets.keys())\n",
        "}\n",
        "\n",
        "# Get a batch of training data\n",
        "inputs, classes = next(iter(dataloaders['train']))\n",
        "\n",
        "# Make a grid from batch\n",
        "out = torchvision.utils.make_grid(inputs)\n",
        "\n",
        "labels = list(cat_to_name.values())\n",
        "\n",
        "imshow(out, title=[labels[x] for x in classes])"
      ],
      "execution_count": 0,
      "outputs": [
        {
          "output_type": "display_data",
          "data": {
            "image/png": "[encoded data removed]",
            "text/plain": [
              "<Figure size 432x288 with 1 Axes>"
            ]
          },
          "metadata": {
            "tags": []
          }
        }
      ]
    },
    {
      "cell_type": "markdown",
      "metadata": {
        "id": "BuN6Tgt24MXT",
        "colab_type": "text"
      },
      "source": [
        "# Building and training the classifier\n",
        "\n",
        "Now that the data is ready, it's time to build and train the classifier. As usual, you should use one of the pretrained models from `torchvision.models` to get the image features. Build and train a new feed-forward classifier using those features.\n",
        "\n",
        "We're going to leave this part up to you. If you want to talk through it with someone, chat with your fellow students! You can also ask questions on the forums or join the instructors in office hours.\n",
        "\n",
        "Refer to [the rubric](https://review.udacity.com/#!/rubrics/1663/view) for guidance on successfully completing this section. Things you'll need to do:\n",
        "\n",
        "* Load a [pre-trained network](http://pytorch.org/docs/master/torchvision/models.html) (If you need a starting point, the VGG networks work great and are straightforward to use)\n",
        "* Define a new, untrained feed-forward network as a classifier, using ReLU activations and dropout\n",
        "* Train the classifier layers using backpropagation using the pre-trained network to get the features\n",
        "* Track the loss and accuracy on the validation set to determine the best hyperparameters\n",
        "\n",
        "We've left a cell open for you below, but use as many as you need. Our advice is to break the problem up into smaller parts you can run separately. Check that each part is doing what you expect, then move on to the next. You'll likely find that as you work through each part, you'll need to go back and modify your previous code. This is totally normal!\n",
        "\n",
        "When training make sure you're updating only the weights of the feed-forward network. You should be able to get the validation accuracy above 70% if you build everything right. Make sure to try different hyperparameters (learning rate, units in the classifier, epochs, etc) to find the best model. Save those hyperparameters to use as default values in the next part of the project."
      ]
    },
    {
      "cell_type": "code",
      "metadata": {
        "id": "iZ1Yepf54MXV",
        "colab_type": "code",
        "outputId": "78dc2fef-6c10-4f19-8fef-986687ed8bca",
        "colab": {
          "base_uri": "https://localhost:8080/",
          "height": 1000
        }
      },
      "source": [
        "model = train.train_model(image_datasets, arch='alexnet', gpu=True, epochs=14, hidden_units=4096)"
      ],
      "execution_count": 0,
      "outputs": [
        {
          "output_type": "stream",
          "text": [
            "Network architecture: alexnet\n",
            "Number of hidden units: 4096\n",
            "Number of epochs: 14\n",
            "Learning rate: 0.002\n",
            "Using CPU for training\n",
            "Epoch 1/14\n",
            "----------\n"
          ],
          "name": "stdout"
        },
        {
          "output_type": "stream",
          "text": [
            "/usr/local/lib/python3.6/dist-packages/torch/optim/lr_scheduler.py:100: UserWarning: Detected call of `lr_scheduler.step()` before `optimizer.step()`. In PyTorch 1.1.0 and later, you should call them in the opposite order: `optimizer.step()` before `lr_scheduler.step()`.  Failure to do this will result in PyTorch skipping the first value of the learning rate schedule.See more details at https://pytorch.org/docs/stable/optim.html#how-to-adjust-learning-rate\n",
            "  \"https://pytorch.org/docs/stable/optim.html#how-to-adjust-learning-rate\", UserWarning)\n"
          ],
          "name": "stderr"
        },
        {
          "output_type": "stream",
          "text": [
            "train Loss: 1.4913 Acc: 0.1724\n",
            "valid Loss: 1.2076 Acc: 0.4167\n",
            "\n",
            "Epoch 2/14\n",
            "----------\n",
            "train Loss: 1.5348 Acc: 0.3793\n",
            "valid Loss: 1.0181 Acc: 0.6667\n",
            "\n",
            "Epoch 3/14\n",
            "----------\n",
            "train Loss: 1.3019 Acc: 0.4483\n",
            "valid Loss: 0.7155 Acc: 0.6667\n",
            "\n",
            "Epoch 4/14\n",
            "----------\n",
            "train Loss: 0.8984 Acc: 0.5862\n",
            "valid Loss: 0.6455 Acc: 0.7500\n",
            "\n",
            "Epoch 5/14\n",
            "----------\n",
            "train Loss: 1.1684 Acc: 0.5517\n",
            "valid Loss: 0.6833 Acc: 0.6667\n",
            "\n",
            "Epoch 6/14\n",
            "----------\n",
            "train Loss: 1.4904 Acc: 0.4828\n",
            "valid Loss: 0.8985 Acc: 0.5833\n",
            "\n",
            "Epoch 7/14\n",
            "----------\n",
            "train Loss: 1.2687 Acc: 0.5862\n",
            "valid Loss: 0.8194 Acc: 0.6667\n",
            "\n",
            "Epoch 8/14\n",
            "----------\n",
            "train Loss: 1.2988 Acc: 0.5862\n",
            "valid Loss: 0.6589 Acc: 0.5833\n",
            "\n",
            "Epoch 9/14\n",
            "----------\n",
            "train Loss: 0.8850 Acc: 0.6552\n",
            "valid Loss: 0.6618 Acc: 0.5833\n",
            "\n",
            "Epoch 10/14\n",
            "----------\n",
            "train Loss: 0.8215 Acc: 0.6552\n",
            "valid Loss: 0.6479 Acc: 0.5833\n",
            "\n",
            "Epoch 11/14\n",
            "----------\n",
            "train Loss: 0.6756 Acc: 0.6552\n",
            "valid Loss: 0.6806 Acc: 0.5833\n",
            "\n",
            "Epoch 12/14\n",
            "----------\n",
            "train Loss: 0.8408 Acc: 0.6207\n",
            "valid Loss: 0.6921 Acc: 0.5833\n",
            "\n",
            "Epoch 13/14\n",
            "----------\n",
            "train Loss: 0.7052 Acc: 0.6897\n",
            "valid Loss: 0.6731 Acc: 0.5833\n",
            "\n",
            "Epoch 14/14\n",
            "----------\n",
            "train Loss: 0.4822 Acc: 0.7931\n",
            "valid Loss: 0.6685 Acc: 0.5833\n",
            "\n",
            "Training complete in 0m 57s\n",
            "Best val Acc: 0.750000\n"
          ],
          "name": "stdout"
        }
      ]
    },
    {
      "cell_type": "markdown",
      "metadata": {
        "id": "gwi5JOsS4MXY",
        "colab_type": "text"
      },
      "source": [
        "## Testing your network\n",
        "\n",
        "It's good practice to test your trained network on test data, images the network has never seen either in training or validation. This will give you a good estimate for the model's performance on completely new images. Run the test images through the network and measure the accuracy, the same way you did validation. You should be able to reach around 70% accuracy on the test set if the model has been trained well."
      ]
    },
    {
      "cell_type": "code",
      "metadata": {
        "id": "U4dJoFhe4MXZ",
        "colab_type": "code",
        "outputId": "89fc2bc5-4849-435a-af14-c340c3a5fbfd",
        "colab": {
          "base_uri": "https://localhost:8080/",
          "height": 54
        }
      },
      "source": [
        "phase = 'test'\n",
        "\n",
        "correct = 0\n",
        "total = 0\n",
        "with torch.no_grad():\n",
        "    if torch.cuda.is_available():\n",
        "        print(\"Using GPU\")\n",
        "        device = torch.device(\"cuda:0\")\n",
        "    else:\n",
        "        print(\"Using CPU\")\n",
        "        device = torch.device(\"cpu\")\n",
        "    \n",
        "\n",
        "    for inputs, labels in dataloaders[phase]:\n",
        "        inputs = inputs.to(device)\n",
        "        labels = labels.to(device)        \n",
        "        \n",
        "        outputs = model(inputs)\n",
        "        _, predicted = torch.max(outputs.data, 1)\n",
        "        total += labels.size(0)\n",
        "        correct += (predicted == labels).sum().item()\n",
        "\n",
        "    print('Accuracy of the network on the test images: %d %%' % (\n",
        "        100 * correct / total))\n"
      ],
      "execution_count": 0,
      "outputs": [
        {
          "output_type": "stream",
          "text": [
            "Using CPU\n",
            "Accuracy of the network on the test images: 68 %\n"
          ],
          "name": "stdout"
        }
      ]
    },
    {
      "cell_type": "markdown",
      "metadata": {
        "id": "NQx2GA084MXc",
        "colab_type": "text"
      },
      "source": [
        "## Save the checkpoint\n",
        "\n",
        "Now that your network is trained, save the model so you can load it later for making predictions. You probably want to save other things such as the mapping of classes to indices which you get from one of the image datasets: `image_datasets['train'].class_to_idx`. You can attach this to the model as an attribute which makes inference easier later on.\n",
        "\n",
        "```model.class_to_idx = image_datasets['train'].class_to_idx```\n",
        "\n",
        "Remember that you'll want to completely rebuild the model later so you can use it for inference. Make sure to include any information you need in the checkpoint. If you want to load the model and keep training, you'll want to save the number of epochs as well as the optimizer state, `optimizer.state_dict`. You'll likely want to use this trained model in the next part of the project, so best to save it now."
      ]
    },
    {
      "cell_type": "code",
      "metadata": {
        "id": "m6qktt1r4MXc",
        "colab_type": "code",
        "colab": {}
      },
      "source": [
        "# Save a checkpoint \n",
        "model.class_to_idx = image_datasets['train'].class_to_idx\n",
        "\n",
        "checkpoint = {\n",
        "    'arch': 'alexnet',\n",
        "    'class_to_idx': model.class_to_idx, \n",
        "    'state_dict': model.state_dict(),\n",
        "    'hidden_units': 4096\n",
        "}\n",
        "\n",
        "torch.save(checkpoint, 'my_model.pt')"
      ],
      "execution_count": 0,
      "outputs": []
    },
    {
      "cell_type": "markdown",
      "metadata": {
        "id": "2aV9qf1G4MXg",
        "colab_type": "text"
      },
      "source": [
        "## Loading the checkpoint\n",
        "\n",
        "At this point it's good to write a function that can load a checkpoint and rebuild the model. That way you can come back to this project and keep working on it without having to retrain the network."
      ]
    },
    {
      "cell_type": "code",
      "metadata": {
        "id": "gf6HJkQ44MXg",
        "colab_type": "code",
        "colab": {}
      },
      "source": [
        "checkpoint = torch.load('my_model.pt')\n",
        "\n",
        "arch = checkpoint['arch']\n",
        "num_labels = len(checkpoint['class_to_idx'])\n",
        "hidden_units = checkpoint['hidden_units']\n",
        "\n",
        "model = train.load_model(arch=arch, num_labels=num_labels, hidden_units=hidden_units)\n",
        "model.load_state_dict(checkpoint['state_dict'])\n",
        "\n",
        "model.class_to_idx = checkpoint['class_to_idx']"
      ],
      "execution_count": 0,
      "outputs": []
    },
    {
      "cell_type": "markdown",
      "metadata": {
        "id": "ne6reWh04MXj",
        "colab_type": "text"
      },
      "source": [
        "# Inference for classification\n",
        "\n",
        "Now you'll write a function to use a trained network for inference. That is, you'll pass an image into the network and predict the class of the flower in the image. Write a function called `predict` that takes an image and a model, then returns the top $K$ most likely classes along with the probabilities. It should look like \n",
        "\n",
        "```python\n",
        "probs, classes = predict(image_path, model)\n",
        "print(probs)\n",
        "print(classes)\n",
        "> [ 0.01558163  0.01541934  0.01452626  0.01443549  0.01407339]\n",
        "> ['70', '3', '45', '62', '55']\n",
        "```\n",
        "\n",
        "First you'll need to handle processing the input image such that it can be used in your network. \n",
        "\n",
        "## Image Preprocessing\n",
        "\n",
        "You'll want to use `PIL` to load the image ([documentation](https://pillow.readthedocs.io/en/latest/reference/Image.html)). It's best to write a function that preprocesses the image so it can be used as input for the model. This function should process the images in the same manner used for training. \n",
        "\n",
        "First, resize the images where the shortest side is 256 pixels, keeping the aspect ratio. This can be done with the [`thumbnail`](http://pillow.readthedocs.io/en/3.1.x/reference/Image.html#PIL.Image.Image.thumbnail) or [`resize`](http://pillow.readthedocs.io/en/3.1.x/reference/Image.html#PIL.Image.Image.thumbnail) methods. Then you'll need to crop out the center 224x224 portion of the image.\n",
        "\n",
        "Color channels of images are typically encoded as integers 0-255, but the model expected floats 0-1. You'll need to convert the values. It's easiest with a Numpy array, which you can get from a PIL image like so `np_image = np.array(pil_image)`.\n",
        "\n",
        "As before, the network expects the images to be normalized in a specific way. For the means, it's `[0.485, 0.456, 0.406]` and for the standard deviations `[0.229, 0.224, 0.225]`. You'll want to subtract the means from each color channel, then divide by the standard deviation. \n",
        "\n",
        "And finally, PyTorch expects the color channel to be the first dimension but it's the third dimension in the PIL image and Numpy array. You can reorder dimensions using [`ndarray.transpose`](https://docs.scipy.org/doc/numpy-1.13.0/reference/generated/numpy.ndarray.transpose.html). The color channel needs to be first and retain the order of the other two dimensions."
      ]
    },
    {
      "cell_type": "code",
      "metadata": {
        "id": "dqmdLyNB4MXj",
        "colab_type": "code",
        "colab": {}
      },
      "source": [
        "# Process a PIL image for use in a PyTorch model\n",
        "def process_image(image):\n",
        "    ''' Scales, crops, and normalizes a PIL image for a PyTorch model,\n",
        "        returns an Numpy array\n",
        "    '''\n",
        "    img_loader = transforms.Compose([\n",
        "        transforms.Resize(256), \n",
        "        transforms.CenterCrop(224), \n",
        "        transforms.ToTensor()])\n",
        "    \n",
        "    pil_image = Image.open(image)\n",
        "    pil_image = img_loader(pil_image).float()\n",
        "    \n",
        "    np_image = np.array(pil_image)    \n",
        "    \n",
        "    mean = np.array([0.485, 0.456, 0.406])\n",
        "    std = np.array([0.229, 0.224, 0.225])\n",
        "    np_image = (np.transpose(np_image, (1, 2, 0)) - mean)/std    \n",
        "    np_image = np.transpose(np_image, (2, 0, 1))\n",
        "            \n",
        "    return np_image"
      ],
      "execution_count": 0,
      "outputs": []
    },
    {
      "cell_type": "markdown",
      "metadata": {
        "id": "q6kU1vFy4MXl",
        "colab_type": "text"
      },
      "source": [
        "To check your work, the function below converts a PyTorch tensor and displays it in the notebook. If your `process_image` function works, running the output through this function should return the original image (except for the cropped out portions)."
      ]
    },
    {
      "cell_type": "code",
      "metadata": {
        "id": "nDlub7PF4MXm",
        "colab_type": "code",
        "colab": {}
      },
      "source": [
        "def imshow(image, ax=None, title=None):\n",
        "    \"\"\"Imshow for Tensor.\"\"\"\n",
        "    if ax is None:\n",
        "        fig, ax = plt.subplots()\n",
        "    \n",
        "    # PyTorch tensors assume the color channel is the first dimension\n",
        "    # but matplotlib assumes is the third dimension\n",
        "    image = np.transpose(image, (1, 2, 0))\n",
        "    \n",
        "    # Undo preprocessing\n",
        "    mean = np.array([0.485, 0.456, 0.406])\n",
        "    std = np.array([0.229, 0.224, 0.225])\n",
        "    image = std * image + mean\n",
        "    \n",
        "    # Image needs to be clipped between 0 and 1 or it looks like noise when displayed\n",
        "    image = np.clip(image, 0, 1)\n",
        "    \n",
        "    ax.imshow(image)\n",
        "    \n",
        "    return ax"
      ],
      "execution_count": 0,
      "outputs": []
    },
    {
      "cell_type": "code",
      "metadata": {
        "id": "tcC1hnQT4MXp",
        "colab_type": "code",
        "outputId": "5382596b-48b9-48ac-f263-d81ffc1e45f4",
        "colab": {
          "base_uri": "https://localhost:8080/",
          "height": 269
        }
      },
      "source": [
        "%matplotlib inline\n",
        "\n",
        "_= imshow(process_image('rect.jpg'))"
      ],
      "execution_count": 0,
      "outputs": [
        {
          "output_type": "display_data",
          "data": {
            "image/png": "[encoded data removed]",
            "text/plain": [
              "<Figure size 432x288 with 1 Axes>"
            ]
          },
          "metadata": {
            "tags": []
          }
        }
      ]
    },
    {
      "cell_type": "markdown",
      "metadata": {
        "id": "DgmWjdML4MXr",
        "colab_type": "text"
      },
      "source": [
        "## Class Prediction\n",
        "\n",
        "Once you can get images in the correct format, it's time to write a function for making predictions with your model. A common practice is to predict the top 5 or so (usually called top-$K$) most probable classes. You'll want to calculate the class probabilities then find the $K$ largest values.,\n",
        "\n",
        "To get the top $K$ largest values in a tensor use [`x.topk(k)`](http://pytorch.org/docs/master/torch.html#torch.topk). This method returns both the highest `k` probabilities and the indices of those probabilities corresponding to the classes. You need to convert from these indices to the actual class labels using `class_to_idx` which hopefully you added to the model or from an `ImageFolder` you used to load the data ([see here](#Save-the-checkpoint)). Make sure to invert the dictionary so you get a mapping from index to class as well.\n",
        "\n",
        "Again, this method should take a path to an image and a model checkpoint, then return the probabilities and classes.\n",
        "\n",
        "```python\n",
        "probs, classes = predict(image_path, model)\n",
        "print(probs)\n",
        "print(classes)\n",
        "> [ 0.01558163  0.01541934  0.01452626  0.01443549  0.01407339]\n",
        "> ['70', '3', '45', '62', '55']\n",
        "```"
      ]
    },
    {
      "cell_type": "code",
      "metadata": {
        "id": "aYf9T-Yk4MXs",
        "colab_type": "code",
        "outputId": "8acdd729-768c-4dbf-d7c2-f566ff5805f9",
        "colab": {
          "base_uri": "https://localhost:8080/",
          "height": 72
        }
      },
      "source": [
        "\n",
        "probs, classes = predict.predict(image='rect.jpg', checkpoint='my_model.pt',topk=3, labels='cat_to_name.json', gpu=True)\n",
        "\n",
        "print(probs)\n",
        "print(classes)"
      ],
      "execution_count": 0,
      "outputs": [
        {
          "output_type": "stream",
          "text": [
            "done\n",
            "[0.3483437  0.34071374 0.31094262]\n",
            "['circle', 'triangle', 'rectangle']\n"
          ],
          "name": "stdout"
        }
      ]
    },
    {
      "cell_type": "markdown",
      "metadata": {
        "id": "py0FJyFU4MXu",
        "colab_type": "text"
      },
      "source": [
        "## Sanity Checking\n",
        "\n",
        "Now that you can use a trained model for predictions, check to make sure it makes sense. Even if the testing accuracy is high, it's always good to check that there aren't obvious bugs. Use `matplotlib` to plot the probabilities for the top 5 classes as a bar graph, along with the input image. It should look like this:\n",
        "\n",
        "<img src='assets/inference_example.png' width=300px>\n",
        "\n",
        "You can convert from the class integer encoding to actual flower names with the `cat_to_name.json` file (should have been loaded earlier in the notebook). To show a PyTorch tensor as an image, use the `imshow` function defined above."
      ]
    },
    {
      "cell_type": "code",
      "metadata": {
        "id": "V5_DCrfM4MXv",
        "colab_type": "code",
        "outputId": "6031b417-b08d-4633-9f60-226738c0012a",
        "colab": {
          "base_uri": "https://localhost:8080/",
          "height": 313
        }
      },
      "source": [
        "# Display an image along with the top 5 classes\n",
        "img = mpimg.imread('rect.jpg')\n",
        "\n",
        "f, axarr = plt.subplots(2,1)\n",
        "\n",
        "axarr[0].imshow(img)\n",
        "axarr[0].set_title('inverted triangle')\n",
        "\n",
        "probs, classes = predict.predict(image='sample2.jpg', checkpoint='my_model.pt', labels='cat_to_name.json', gpu=True)\n",
        "y_pos = np.arange(len(classes))\n",
        "\n",
        "axarr[1].barh(y_pos, probs, align='center', color='blue')\n",
        "axarr[1].set_yticks(y_pos)\n",
        "axarr[1].set_yticklabels(classes)\n",
        "axarr[1].invert_yaxis()  # labels read top-to-bottom\n",
        "_ = axarr[1].set_xlabel('Probs')"
      ],
      "execution_count": 0,
      "outputs": [
        {
          "output_type": "stream",
          "text": [
            "done\n"
          ],
          "name": "stdout"
        },
        {
          "output_type": "display_data",
          "data": {
            "image/png": "[encoded data removed]",
            "text/plain": [
              "<Figure size 432x288 with 2 Axes>"
            ]
          },
          "metadata": {
            "tags": []
          }
        }
      ]
    },
    {
      "cell_type": "code",
      "metadata": {
        "id": "cuKC9oxp4MXx",
        "colab_type": "code",
        "colab": {}
      },
      "source": [
        ""
      ],
      "execution_count": 0,
      "outputs": []
    }
  ]
}